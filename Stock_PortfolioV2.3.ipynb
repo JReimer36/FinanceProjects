{
 "cells": [
  {
   "cell_type": "code",
   "execution_count": 1,
   "metadata": {
    "extensions": {
     "jupyter_dashboards": {
      "version": 1,
      "views": {
       "grid_default": {},
       "report_default": {
        "hidden": false
       }
      }
     }
    },
    "scrolled": true
   },
   "outputs": [],
   "source": [
    "import yfinance as yf \n",
    "import datetime\n",
    "import pandas as pd\n",
    "import numpy as np\n",
    "import matplotlib.pyplot as plt\n",
    "import matplotlib.colors as mcolors\n",
    "from IPython.display import clear_output\n",
    "plt.style.use('dark_background')\n",
    "import seaborn as sns\n",
    "import random\n",
    "import warnings\n",
    "warnings.filterwarnings('ignore')\n",
    "\n",
    "end_date = datetime.datetime.now()"
   ]
  },
  {
   "cell_type": "markdown",
   "metadata": {
    "extensions": {
     "jupyter_dashboards": {
      "version": 1,
      "views": {
       "grid_default": {},
       "report_default": {
        "hidden": false
       }
      }
     }
    }
   },
   "source": [
    "# Get Data"
   ]
  },
  {
   "cell_type": "code",
   "execution_count": 2,
   "metadata": {
    "extensions": {
     "jupyter_dashboards": {
      "version": 1,
      "views": {
       "grid_default": {},
       "report_default": {
        "hidden": false
       }
      }
     }
    },
    "scrolled": true
   },
   "outputs": [
    {
     "name": "stdout",
     "output_type": "stream",
     "text": [
      "[*********************100%***********************]  5 of 5 completed\n"
     ]
    }
   ],
   "source": [
    "start_date = '2019-01-01'\n",
    "ticker_list = ['AAPL', 'AMZN','PEP', 'SONY', 'TSLA']\n",
    "all_data = yf.download(ticker_list, start_date, end_date)"
   ]
  },
  {
   "cell_type": "markdown",
   "metadata": {
    "extensions": {
     "jupyter_dashboards": {
      "version": 1,
      "views": {
       "grid_default": {},
       "report_default": {
        "hidden": false
       }
      }
     }
    }
   },
   "source": [
    "## Alter data to use, and split data for portfolio creation and forward testing"
   ]
  },
  {
   "cell_type": "code",
   "execution_count": 3,
   "metadata": {
    "extensions": {
     "jupyter_dashboards": {
      "version": 1,
      "views": {
       "grid_default": {},
       "report_default": {
        "hidden": true
       }
      }
     }
    },
    "scrolled": true
   },
   "outputs": [],
   "source": [
    "all_prices = all_data['Adj Close']\n",
    "all_prices = all_prices.reset_index(inplace=False)\n",
    "all_prices = all_prices.set_index('Date')\n",
    "halfway = int(len(all_prices.index)/2)\n",
    "# Split prices into front prices for portfolio\n",
    "# and back prices for future testing\n",
    "front_prices = all_prices.iloc[:halfway,:]\n",
    "back_prices = all_prices.iloc[halfway:,:]"
   ]
  },
  {
   "cell_type": "markdown",
   "metadata": {
    "extensions": {
     "jupyter_dashboards": {
      "version": 1,
      "views": {
       "grid_default": {},
       "report_default": {
        "hidden": true
       }
      }
     }
    }
   },
   "source": [
    "## Calculate returns and stock cov/cor matrices"
   ]
  },
  {
   "cell_type": "code",
   "execution_count": 4,
   "metadata": {
    "extensions": {
     "jupyter_dashboards": {
      "version": 1,
      "views": {
       "grid_default": {},
       "report_default": {
        "hidden": true
       }
      }
     }
    },
    "scrolled": true
   },
   "outputs": [
    {
     "data": {
      "text/html": [
       "<div>\n",
       "<style scoped>\n",
       "    .dataframe tbody tr th:only-of-type {\n",
       "        vertical-align: middle;\n",
       "    }\n",
       "\n",
       "    .dataframe tbody tr th {\n",
       "        vertical-align: top;\n",
       "    }\n",
       "\n",
       "    .dataframe thead th {\n",
       "        text-align: right;\n",
       "    }\n",
       "</style>\n",
       "<table border=\"1\" class=\"dataframe\">\n",
       "  <thead>\n",
       "    <tr style=\"text-align: right;\">\n",
       "      <th></th>\n",
       "      <th>AAPL</th>\n",
       "      <th>AMZN</th>\n",
       "      <th>PEP</th>\n",
       "      <th>SONY</th>\n",
       "      <th>TSLA</th>\n",
       "    </tr>\n",
       "  </thead>\n",
       "  <tbody>\n",
       "    <tr>\n",
       "      <th>AAPL</th>\n",
       "      <td>0.129202</td>\n",
       "      <td>0.069044</td>\n",
       "      <td>0.063511</td>\n",
       "      <td>0.070128</td>\n",
       "      <td>0.099192</td>\n",
       "    </tr>\n",
       "    <tr>\n",
       "      <th>AMZN</th>\n",
       "      <td>0.069044</td>\n",
       "      <td>0.079764</td>\n",
       "      <td>0.043932</td>\n",
       "      <td>0.058292</td>\n",
       "      <td>0.069864</td>\n",
       "    </tr>\n",
       "    <tr>\n",
       "      <th>PEP</th>\n",
       "      <td>0.063511</td>\n",
       "      <td>0.043932</td>\n",
       "      <td>0.072516</td>\n",
       "      <td>0.048127</td>\n",
       "      <td>0.044662</td>\n",
       "    </tr>\n",
       "    <tr>\n",
       "      <th>SONY</th>\n",
       "      <td>0.070128</td>\n",
       "      <td>0.058292</td>\n",
       "      <td>0.048127</td>\n",
       "      <td>0.100746</td>\n",
       "      <td>0.062915</td>\n",
       "    </tr>\n",
       "    <tr>\n",
       "      <th>TSLA</th>\n",
       "      <td>0.099192</td>\n",
       "      <td>0.069864</td>\n",
       "      <td>0.044662</td>\n",
       "      <td>0.062915</td>\n",
       "      <td>0.407010</td>\n",
       "    </tr>\n",
       "  </tbody>\n",
       "</table>\n",
       "</div>"
      ],
      "text/plain": [
       "          AAPL      AMZN       PEP      SONY      TSLA\n",
       "AAPL  0.129202  0.069044  0.063511  0.070128  0.099192\n",
       "AMZN  0.069044  0.079764  0.043932  0.058292  0.069864\n",
       "PEP   0.063511  0.043932  0.072516  0.048127  0.044662\n",
       "SONY  0.070128  0.058292  0.048127  0.100746  0.062915\n",
       "TSLA  0.099192  0.069864  0.044662  0.062915  0.407010"
      ]
     },
     "execution_count": 4,
     "metadata": {},
     "output_type": "execute_result"
    }
   ],
   "source": [
    "returns = front_prices.pct_change()\n",
    "cov_matrix1 = returns.cov()*252\n",
    "cov_matrix1"
   ]
  },
  {
   "cell_type": "markdown",
   "metadata": {
    "extensions": {
     "jupyter_dashboards": {
      "version": 1,
      "views": {
       "grid_default": {},
       "report_default": {
        "hidden": true
       }
      }
     }
    }
   },
   "source": [
    "## Expected Return"
   ]
  },
  {
   "cell_type": "code",
   "execution_count": 5,
   "metadata": {
    "extensions": {
     "jupyter_dashboards": {
      "version": 1,
      "views": {
       "grid_default": {},
       "report_default": {
        "hidden": true
       }
      }
     }
    },
    "scrolled": true
   },
   "outputs": [
    {
     "name": "stdout",
     "output_type": "stream",
     "text": [
      "AAPL    0.601432\n",
      "AMZN    0.189511\n",
      "PEP     0.216196\n",
      "SONY    0.166919\n",
      "TSLA    0.001895\n",
      "dtype: float64\n"
     ]
    }
   ],
   "source": [
    "er = (returns.mean())\n",
    "# Annualizing average daily returns\n",
    "for x in range(0,4):\n",
    "    er[x]=((er[x]+1)**252)-1\n",
    "print(er)"
   ]
  },
  {
   "cell_type": "markdown",
   "metadata": {
    "extensions": {
     "jupyter_dashboards": {
      "version": 1,
      "views": {
       "grid_default": {},
       "report_default": {
        "hidden": true
       }
      }
     }
    }
   },
   "source": [
    "# Create portfolios to find EF"
   ]
  },
  {
   "cell_type": "code",
   "execution_count": 6,
   "metadata": {
    "extensions": {
     "jupyter_dashboards": {
      "version": 1,
      "views": {
       "grid_default": {},
       "report_default": {
        "hidden": true
       }
      }
     }
    },
    "scrolled": true
   },
   "outputs": [],
   "source": [
    "p_ret=[]\n",
    "p_vol=[]\n",
    "p_weights = []\n",
    "num_stocks = len(ticker_list)\n",
    "\n",
    "num_assets = len(returns.columns)\n",
    "num_portfolios = int(10000 *10**(1 + (num_stocks/10)))"
   ]
  },
  {
   "cell_type": "code",
   "execution_count": 7,
   "metadata": {
    "extensions": {
     "jupyter_dashboards": {
      "version": 1,
      "views": {
       "grid_default": {},
       "report_default": {
        "hidden": true
       }
      }
     }
    },
    "scrolled": true
   },
   "outputs": [],
   "source": [
    "for single_portfolio in (range(num_portfolios)):\n",
    "    #clear_output(wait=True)\n",
    "    \n",
    "    weights = np.random.random(num_assets)\n",
    "    weights /= np.sum(weights)\n",
    "    rets = np.dot(weights, er)\n",
    "    volatility = np.sqrt(np.dot(weights.T, np.dot(cov_matrix1, weights)))\n",
    "    p_ret.append(rets)\n",
    "    p_vol.append(volatility)\n",
    "    p_weights.append(weights)\n",
    "    \n",
    "    #print('Current progress:', np.round(single_portfolio/num_portfolios *100, 2), '%')"
   ]
  },
  {
   "cell_type": "markdown",
   "metadata": {
    "extensions": {
     "jupyter_dashboards": {
      "version": 1,
      "views": {
       "grid_default": {},
       "report_default": {
        "hidden": true
       }
      }
     }
    }
   },
   "source": [
    "## Compile portfolios into dataframe"
   ]
  },
  {
   "cell_type": "code",
   "execution_count": 8,
   "metadata": {
    "extensions": {
     "jupyter_dashboards": {
      "version": 1,
      "views": {
       "grid_default": {},
       "report_default": {
        "hidden": true
       }
      }
     }
    },
    "scrolled": true
   },
   "outputs": [],
   "source": [
    "data1 = {'Returns': p_ret, 'Volatility': p_vol}\n",
    "for counter, symbol in enumerate(returns.columns.tolist()):\n",
    "    data1[symbol+ ' Weight'] = [w[counter] for w in p_weights]\n",
    "portfolios = pd.DataFrame(data1)"
   ]
  },
  {
   "cell_type": "markdown",
   "metadata": {
    "extensions": {
     "jupyter_dashboards": {
      "version": 1,
      "views": {
       "grid_default": {},
       "report_default": {
        "hidden": true
       }
      }
     }
    }
   },
   "source": [
    "### Find risk free rate for sharpe ratio"
   ]
  },
  {
   "cell_type": "code",
   "execution_count": 9,
   "metadata": {
    "extensions": {
     "jupyter_dashboards": {
      "version": 1,
      "views": {
       "grid_default": {},
       "report_default": {
        "hidden": true
       }
      }
     }
    },
    "scrolled": true
   },
   "outputs": [
    {
     "name": "stdout",
     "output_type": "stream",
     "text": [
      "[*********************100%***********************]  1 of 1 completed\n"
     ]
    },
    {
     "data": {
      "text/html": [
       "<div>\n",
       "<style scoped>\n",
       "    .dataframe tbody tr th:only-of-type {\n",
       "        vertical-align: middle;\n",
       "    }\n",
       "\n",
       "    .dataframe tbody tr th {\n",
       "        vertical-align: top;\n",
       "    }\n",
       "\n",
       "    .dataframe thead th {\n",
       "        text-align: right;\n",
       "    }\n",
       "</style>\n",
       "<table border=\"1\" class=\"dataframe\">\n",
       "  <thead>\n",
       "    <tr style=\"text-align: right;\">\n",
       "      <th></th>\n",
       "      <th>Returns</th>\n",
       "      <th>Volatility</th>\n",
       "      <th>AAPL Weight</th>\n",
       "      <th>AMZN Weight</th>\n",
       "      <th>PEP Weight</th>\n",
       "      <th>SONY Weight</th>\n",
       "      <th>TSLA Weight</th>\n",
       "      <th>Sharpe</th>\n",
       "    </tr>\n",
       "  </thead>\n",
       "  <tbody>\n",
       "    <tr>\n",
       "      <th>0</th>\n",
       "      <td>0.271160</td>\n",
       "      <td>0.286125</td>\n",
       "      <td>0.273557</td>\n",
       "      <td>0.214637</td>\n",
       "      <td>0.194382</td>\n",
       "      <td>0.141387</td>\n",
       "      <td>0.176037</td>\n",
       "      <td>0.895337</td>\n",
       "    </tr>\n",
       "    <tr>\n",
       "      <th>1</th>\n",
       "      <td>0.202885</td>\n",
       "      <td>0.343297</td>\n",
       "      <td>0.194503</td>\n",
       "      <td>0.005099</td>\n",
       "      <td>0.294342</td>\n",
       "      <td>0.123278</td>\n",
       "      <td>0.382779</td>\n",
       "      <td>0.547348</td>\n",
       "    </tr>\n",
       "    <tr>\n",
       "      <th>2</th>\n",
       "      <td>0.312889</td>\n",
       "      <td>0.283402</td>\n",
       "      <td>0.338069</td>\n",
       "      <td>0.075315</td>\n",
       "      <td>0.434756</td>\n",
       "      <td>0.006119</td>\n",
       "      <td>0.145741</td>\n",
       "      <td>1.051180</td>\n",
       "    </tr>\n",
       "  </tbody>\n",
       "</table>\n",
       "</div>"
      ],
      "text/plain": [
       "    Returns  Volatility  AAPL Weight  AMZN Weight  PEP Weight  SONY Weight  \\\n",
       "0  0.271160    0.286125     0.273557     0.214637    0.194382     0.141387   \n",
       "1  0.202885    0.343297     0.194503     0.005099    0.294342     0.123278   \n",
       "2  0.312889    0.283402     0.338069     0.075315    0.434756     0.006119   \n",
       "\n",
       "   TSLA Weight    Sharpe  \n",
       "0     0.176037  0.895337  \n",
       "1     0.382779  0.547348  \n",
       "2     0.145741  1.051180  "
      ]
     },
     "execution_count": 9,
     "metadata": {},
     "output_type": "execute_result"
    }
   ],
   "source": [
    "rf_data = yf.download('^TNX', start_date, end_date)\n",
    "#print(rf_data)\n",
    "rf_returns = rf_data['Adj Close']\n",
    "rfr = (rf_returns.mean())/100 # divide by 100 to convert to x percent\n",
    "portfolios['Sharpe']=(portfolios['Returns']-rfr)/portfolios['Volatility']\n",
    "portfolios.head(3)"
   ]
  },
  {
   "cell_type": "markdown",
   "metadata": {
    "extensions": {
     "jupyter_dashboards": {
      "version": 1,
      "views": {
       "grid_default": {},
       "report_default": {
        "hidden": true
       }
      }
     }
    }
   },
   "source": [
    "## Add step to select most diversified portfolio among\n",
    "## Top 5 Sharpe Ratio portfolios"
   ]
  },
  {
   "cell_type": "code",
   "execution_count": 10,
   "metadata": {},
   "outputs": [],
   "source": [
    "def get_diversified_port():\n",
    "    column_names = portfolios.columns\n",
    "    stock_columns = list(column_names[2:-1])\n",
    "    min_weight = 1/(len(stock_columns) * 2)\n",
    "    # Make sure each stock has minimum weight in portofolio comp\n",
    "    chosen_weightings = portfolios[(portfolios[stock_columns] > min_weight)][stock_columns].dropna()\n",
    "    trimmed = portfolios.loc[chosen_weightings.index]\n",
    "    # Best 5 portfolios with min weight\n",
    "    best_weights = trimmed.nlargest(5, 'Sharpe')\n",
    "    best_weights['P Weight Var'] = best_weights.iloc[:,2:-1].var(axis=1)\n",
    "    # Choose most balanced of top 5\n",
    "    diversified = (best_weights[best_weights['P Weight Var']==best_weights['P Weight Var'].min()])\n",
    "    diversified = diversified.iloc[:,:-1]\n",
    "    return diversified\n",
    "    "
   ]
  },
  {
   "cell_type": "code",
   "execution_count": 11,
   "metadata": {
    "extensions": {
     "jupyter_dashboards": {
      "version": 1,
      "views": {
       "grid_default": {},
       "report_default": {
        "hidden": true
       }
      }
     }
    },
    "scrolled": true
   },
   "outputs": [
    {
     "data": {
      "text/html": [
       "<div>\n",
       "<style scoped>\n",
       "    .dataframe tbody tr th:only-of-type {\n",
       "        vertical-align: middle;\n",
       "    }\n",
       "\n",
       "    .dataframe tbody tr th {\n",
       "        vertical-align: top;\n",
       "    }\n",
       "\n",
       "    .dataframe thead th {\n",
       "        text-align: right;\n",
       "    }\n",
       "</style>\n",
       "<table border=\"1\" class=\"dataframe\">\n",
       "  <thead>\n",
       "    <tr style=\"text-align: right;\">\n",
       "      <th></th>\n",
       "      <th>Returns</th>\n",
       "      <th>Volatility</th>\n",
       "      <th>AAPL Weight</th>\n",
       "      <th>AMZN Weight</th>\n",
       "      <th>PEP Weight</th>\n",
       "      <th>SONY Weight</th>\n",
       "      <th>TSLA Weight</th>\n",
       "      <th>Sharpe</th>\n",
       "    </tr>\n",
       "  </thead>\n",
       "  <tbody>\n",
       "    <tr>\n",
       "      <th>100126</th>\n",
       "      <td>0.375</td>\n",
       "      <td>0.295</td>\n",
       "      <td>0.492</td>\n",
       "      <td>0.122</td>\n",
       "      <td>0.163</td>\n",
       "      <td>0.123</td>\n",
       "      <td>0.101</td>\n",
       "      <td>1.22</td>\n",
       "    </tr>\n",
       "  </tbody>\n",
       "</table>\n",
       "</div>"
      ],
      "text/plain": [
       "        Returns  Volatility  AAPL Weight  AMZN Weight  PEP Weight  \\\n",
       "100126    0.375       0.295        0.492        0.122       0.163   \n",
       "\n",
       "        SONY Weight  TSLA Weight  Sharpe  \n",
       "100126        0.123        0.101    1.22  "
      ]
     },
     "execution_count": 11,
     "metadata": {},
     "output_type": "execute_result"
    }
   ],
   "source": [
    "portfolios = portfolios.round(3)\n",
    "\n",
    "diversified = get_diversified_port()\n",
    "diversified"
   ]
  },
  {
   "cell_type": "markdown",
   "metadata": {
    "extensions": {
     "jupyter_dashboards": {
      "version": 1,
      "views": {
       "grid_default": {},
       "report_default": {
        "hidden": true
       }
      }
     }
    }
   },
   "source": [
    "### Weighting with best Sharpe Ratio and Min Volatility"
   ]
  },
  {
   "cell_type": "code",
   "execution_count": 12,
   "metadata": {
    "extensions": {
     "jupyter_dashboards": {
      "version": 1,
      "views": {
       "grid_default": {},
       "report_default": {
        "hidden": true
       }
      }
     }
    },
    "scrolled": true
   },
   "outputs": [
    {
     "data": {
      "text/html": [
       "<div>\n",
       "<style scoped>\n",
       "    .dataframe tbody tr th:only-of-type {\n",
       "        vertical-align: middle;\n",
       "    }\n",
       "\n",
       "    .dataframe tbody tr th {\n",
       "        vertical-align: top;\n",
       "    }\n",
       "\n",
       "    .dataframe thead th {\n",
       "        text-align: right;\n",
       "    }\n",
       "</style>\n",
       "<table border=\"1\" class=\"dataframe\">\n",
       "  <thead>\n",
       "    <tr style=\"text-align: right;\">\n",
       "      <th></th>\n",
       "      <th>Returns</th>\n",
       "      <th>Volatility</th>\n",
       "      <th>AAPL Weight</th>\n",
       "      <th>AMZN Weight</th>\n",
       "      <th>PEP Weight</th>\n",
       "      <th>SONY Weight</th>\n",
       "      <th>TSLA Weight</th>\n",
       "      <th>Sharpe</th>\n",
       "    </tr>\n",
       "  </thead>\n",
       "  <tbody>\n",
       "    <tr>\n",
       "      <th>3864</th>\n",
       "      <td>0.551</td>\n",
       "      <td>0.342</td>\n",
       "      <td>0.886</td>\n",
       "      <td>0.002</td>\n",
       "      <td>0.053</td>\n",
       "      <td>0.039</td>\n",
       "      <td>0.02</td>\n",
       "      <td>1.569</td>\n",
       "    </tr>\n",
       "  </tbody>\n",
       "</table>\n",
       "</div>"
      ],
      "text/plain": [
       "      Returns  Volatility  AAPL Weight  AMZN Weight  PEP Weight  SONY Weight  \\\n",
       "3864    0.551       0.342        0.886        0.002       0.053        0.039   \n",
       "\n",
       "      TSLA Weight  Sharpe  \n",
       "3864         0.02   1.569  "
      ]
     },
     "execution_count": 12,
     "metadata": {},
     "output_type": "execute_result"
    }
   ],
   "source": [
    "sharpe = (portfolios[portfolios['Sharpe']==portfolios['Sharpe'].max()])\n",
    "min_vol = (portfolios[portfolios['Volatility']==portfolios['Volatility'].min()])\n",
    "min_vol= min_vol.iloc[0,:]\n",
    "sharpe"
   ]
  },
  {
   "cell_type": "markdown",
   "metadata": {
    "extensions": {
     "jupyter_dashboards": {
      "version": 1,
      "views": {
       "grid_default": {},
       "report_default": {
        "hidden": true
       }
      }
     }
    }
   },
   "source": [
    "## Plot Efficient Frontier"
   ]
  },
  {
   "cell_type": "code",
   "execution_count": 13,
   "metadata": {
    "extensions": {
     "jupyter_dashboards": {
      "version": 1,
      "views": {
       "grid_default": {},
       "report_default": {
        "hidden": false
       }
      }
     }
    },
    "scrolled": true
   },
   "outputs": [
    {
     "data": {
      "image/png": "[encoded data removed]",
      "text/plain": [
       "<Figure size 1080x504 with 2 Axes>"
      ]
     },
     "metadata": {},
     "output_type": "display_data"
    }
   ],
   "source": [
    "plt.figure(figsize=(15,7))\n",
    "plt.scatter(x=portfolios['Volatility'], y=portfolios['Returns'], c= portfolios['Sharpe'], cmap='YlGnBu', marker='o', s=10, alpha=.3)\n",
    "plt.colorbar()\n",
    "plt.scatter(x=sharpe['Volatility'], y=sharpe['Returns'], color= 'r', marker='*', s=200, lw=2., label='Max Sharpe Ratio')\n",
    "plt.scatter(x=min_vol['Volatility'], y=min_vol['Returns'], color= 'b', marker='D', s=100, lw=1., label='Min Volatility')\n",
    "plt.scatter(x=diversified['Volatility'], y=diversified['Returns'], color= 'g', marker='*', s=200, lw=2., label='Diversified')\n",
    "plt.xlabel('Volatility', color='white')\n",
    "plt.ylabel('Expected Returns', color= 'white')\n",
    "plt.title('Efficient Frontier', color='white')\n",
    "plt.legend(labelspacing=.8)\n",
    "plt.tick_params(axis='x', colors='white')\n",
    "plt.tick_params(axis='y', colors='white')\n",
    "\n",
    "plt.show()"
   ]
  },
  {
   "cell_type": "code",
   "execution_count": 14,
   "metadata": {
    "extensions": {
     "jupyter_dashboards": {
      "version": 1,
      "views": {
       "grid_default": {},
       "report_default": {
        "hidden": false
       }
      }
     }
    },
    "scrolled": true
   },
   "outputs": [
    {
     "name": "stdout",
     "output_type": "stream",
     "text": [
      "Minimum Volatility Portfolio Balance\n",
      "Returns        0.198\n",
      "Volatility     0.243\n",
      "AAPL Weight    0.011\n",
      "AMZN Weight    0.333\n",
      "PEP Weight     0.483\n",
      "SONY Weight    0.142\n",
      "TSLA Weight    0.031\n",
      "Sharpe         0.751\n",
      "Name: 7396, dtype: float64\n",
      "\n",
      "Maximum Sharpe Ratio Portfolio Balance\n",
      "              3864\n",
      "Returns      0.551\n",
      "Volatility   0.342\n",
      "AAPL Weight  0.886\n",
      "AMZN Weight  0.002\n",
      "PEP Weight   0.053\n",
      "SONY Weight  0.039\n",
      "TSLA Weight  0.020\n",
      "Sharpe       1.569\n",
      "\n",
      "Diversified Portfolio Balance\n",
      "             100126\n",
      "Returns       0.375\n",
      "Volatility    0.295\n",
      "AAPL Weight   0.492\n",
      "AMZN Weight   0.122\n",
      "PEP Weight    0.163\n",
      "SONY Weight   0.123\n",
      "TSLA Weight   0.101\n",
      "Sharpe        1.220\n"
     ]
    }
   ],
   "source": [
    "print('Minimum Volatility Portfolio Balance')\n",
    "print(min_vol.T)\n",
    "print('\\nMaximum Sharpe Ratio Portfolio Balance')\n",
    "print(sharpe.T)\n",
    "print('\\nDiversified Portfolio Balance')\n",
    "print(diversified.T)"
   ]
  },
  {
   "cell_type": "markdown",
   "metadata": {
    "extensions": {
     "jupyter_dashboards": {
      "version": 1,
      "views": {
       "grid_default": {},
       "report_default": {
        "hidden": false
       }
      }
     }
    }
   },
   "source": [
    "# Test performance in future"
   ]
  },
  {
   "cell_type": "code",
   "execution_count": 15,
   "metadata": {
    "extensions": {
     "jupyter_dashboards": {
      "version": 1,
      "views": {
       "grid_default": {},
       "report_default": {
        "hidden": true
       }
      }
     }
    },
    "scrolled": true
   },
   "outputs": [
    {
     "name": "stdout",
     "output_type": "stream",
     "text": [
      "                  AAPL         AMZN         PEP       SONY        TSLA\n",
      "Date                                                                  \n",
      "2020-03-18   61.089394  1830.000000  117.352257  54.790001   72.244003\n",
      "2020-03-19   60.621319  1880.930054  113.877876  55.400002   85.528000\n",
      "2020-03-20   56.772747  1846.089966  100.863556  53.060001   85.505997\n",
      "2020-03-23   55.566658  1902.829956  102.076668  52.900002   86.858002\n",
      "2020-03-24   61.141407  1940.099976  110.481155  57.000000  101.000000\n",
      "...                ...          ...         ...        ...         ...\n",
      "2021-05-25  126.900002  3259.050049  148.300003  98.349998  604.690002\n",
      "2021-05-26  126.849998  3265.159912  148.300003  98.419998  619.130005\n",
      "2021-05-27  125.279999  3230.110107  146.509995  99.570000  630.849976\n",
      "2021-05-28  124.610001  3223.070068  147.940002  99.610001  625.219971\n",
      "2021-06-01  124.989998  3224.500000  147.509995  99.449997  626.059998\n",
      "\n",
      "[304 rows x 5 columns]\n"
     ]
    }
   ],
   "source": [
    "backtest_data = back_prices.copy()\n",
    "initial_capital = 100000.0\n",
    "print(backtest_data)"
   ]
  },
  {
   "cell_type": "code",
   "execution_count": 16,
   "metadata": {
    "extensions": {
     "jupyter_dashboards": {
      "version": 1,
      "views": {
       "grid_default": {},
       "report_default": {
        "hidden": true
       }
      }
     }
    },
    "scrolled": true
   },
   "outputs": [
    {
     "name": "stdout",
     "output_type": "stream",
     "text": [
      "        Returns  Volatility  AAPL Weight  AMZN Weight  PEP Weight  \\\n",
      "100126    0.375       0.295        0.492        0.122       0.163   \n",
      "\n",
      "        SONY Weight  TSLA Weight  Sharpe  \n",
      "100126        0.123        0.101    1.22  \n",
      "\n"
     ]
    }
   ],
   "source": [
    "print(diversified)\n",
    "print()\n",
    "opt_weights = (diversified.iloc[0:1,2:-1])\n",
    "#print(opt_weights)"
   ]
  },
  {
   "cell_type": "markdown",
   "metadata": {
    "extensions": {
     "jupyter_dashboards": {
      "version": 1,
      "views": {
       "grid_default": {},
       "report_default": {
        "hidden": true
       }
      }
     }
    }
   },
   "source": [
    "### Pull weights from optimal sharpe value portfolio"
   ]
  },
  {
   "cell_type": "code",
   "execution_count": 17,
   "metadata": {
    "extensions": {
     "jupyter_dashboards": {
      "version": 1,
      "views": {
       "grid_default": {},
       "report_default": {
        "hidden": true
       }
      }
     }
    },
    "scrolled": true
   },
   "outputs": [
    {
     "data": {
      "text/plain": [
       "array([0.492, 0.122, 0.163, 0.123, 0.101])"
      ]
     },
     "execution_count": 17,
     "metadata": {},
     "output_type": "execute_result"
    }
   ],
   "source": [
    "opt_weights = (diversified.iloc[0:1,2:-1])\n",
    "opt_weights = opt_weights.values\n",
    "opt_weights = (opt_weights[0])\n",
    "opt_weights"
   ]
  },
  {
   "cell_type": "markdown",
   "metadata": {
    "extensions": {
     "jupyter_dashboards": {
      "version": 1,
      "views": {
       "grid_default": {},
       "report_default": {
        "hidden": true
       }
      }
     }
    }
   },
   "source": [
    "### Create df of positions for amt of shares per stock based upon portfolio weights"
   ]
  },
  {
   "cell_type": "code",
   "execution_count": 18,
   "metadata": {
    "extensions": {
     "jupyter_dashboards": {
      "version": 1,
      "views": {
       "grid_default": {},
       "report_default": {
        "hidden": true
       }
      }
     }
    },
    "scrolled": true
   },
   "outputs": [],
   "source": [
    "positions = pd.DataFrame(index=backtest_data.index).fillna(0.0)\n",
    "for counter, symbol in enumerate(all_prices.columns.tolist()):\n",
    "    positions[symbol+ ' Shares'] = (opt_weights[counter]*initial_capital)/back_prices.iloc[0,counter]"
   ]
  },
  {
   "cell_type": "markdown",
   "metadata": {
    "extensions": {
     "jupyter_dashboards": {
      "version": 1,
      "views": {
       "grid_default": {},
       "report_default": {
        "hidden": true
       }
      }
     }
    }
   },
   "source": [
    "### Create list of column names for Portfolio df, fill in df values by multiplying stock value by stock position"
   ]
  },
  {
   "cell_type": "code",
   "execution_count": 19,
   "metadata": {
    "extensions": {
     "jupyter_dashboards": {
      "version": 1,
      "views": {
       "grid_default": {},
       "report_default": {
        "hidden": true
       }
      }
     }
    },
    "scrolled": true
   },
   "outputs": [],
   "source": [
    "# Create list of columns for portfolio\n",
    "col_list= []\n",
    "for counter, symbol in enumerate(all_prices.columns.tolist()):\n",
    "    col_list.append(symbol+ ' Value')\n",
    "# Initialize portfolio\n",
    "portfolio = pd.DataFrame(backtest_data.values*positions.values, columns=col_list, index=backtest_data.index)\n",
    "portfolio['total'] = portfolio.sum(axis=1)\n",
    "portfolio['returns'] = portfolio['total'].pct_change()"
   ]
  },
  {
   "cell_type": "markdown",
   "metadata": {
    "extensions": {
     "jupyter_dashboards": {
      "version": 1,
      "views": {
       "grid_default": {},
       "report_default": {
        "hidden": true
       }
      }
     }
    }
   },
   "source": [
    "# Show Portfolio performance "
   ]
  },
  {
   "cell_type": "markdown",
   "metadata": {
    "extensions": {
     "jupyter_dashboards": {
      "version": 1,
      "views": {
       "grid_default": {},
       "report_default": {
        "hidden": true
       }
      }
     }
    }
   },
   "source": [
    "### Get index returns and standardize prices"
   ]
  },
  {
   "cell_type": "code",
   "execution_count": 20,
   "metadata": {
    "extensions": {
     "jupyter_dashboards": {
      "version": 1,
      "views": {
       "grid_default": {},
       "report_default": {
        "hidden": true
       }
      }
     }
    },
    "scrolled": true
   },
   "outputs": [
    {
     "name": "stdout",
     "output_type": "stream",
     "text": [
      "[*********************100%***********************]  1 of 1 completed\n"
     ]
    }
   ],
   "source": [
    "index_all_data = yf.download('^GSPC', start_date, end_date)\n",
    "index_all_data['returns'] = index_all_data['Adj Close'].pct_change()\n",
    "\n",
    "halfway = int(len(index_all_data.index)/2)\n",
    "# Split prices into front prices for portfolio\n",
    "# and back prices for future testing\n",
    "index_front_data = index_all_data.iloc[:halfway,:]\n",
    "index_back_data = index_all_data.iloc[halfway:,:]"
   ]
  },
  {
   "cell_type": "code",
   "execution_count": 21,
   "metadata": {
    "extensions": {
     "jupyter_dashboards": {
      "version": 1,
      "views": {
       "grid_default": {},
       "report_default": {
        "hidden": true
       }
      }
     }
    },
    "scrolled": true
   },
   "outputs": [],
   "source": [
    "portfolio['Std Value'] = portfolio['total'] / portfolio['total'].iloc[0] * 100\n",
    "index_back_data['Std Value'] = index_back_data['Adj Close'] / index_back_data['Adj Close'].iloc[0] * 100\n",
    "#print(portfolio.tail(5))\n",
    "#print(index_back_data.tail(5))"
   ]
  },
  {
   "cell_type": "markdown",
   "metadata": {
    "extensions": {
     "jupyter_dashboards": {
      "version": 1,
      "views": {
       "grid_default": {},
       "report_default": {
        "hidden": true
       }
      }
     }
    }
   },
   "source": [
    "### Plot portfolio value against index (standardized)"
   ]
  },
  {
   "cell_type": "code",
   "execution_count": 22,
   "metadata": {
    "extensions": {
     "jupyter_dashboards": {
      "version": 1,
      "views": {
       "grid_default": {},
       "report_default": {
        "hidden": false
       }
      }
     }
    },
    "scrolled": true
   },
   "outputs": [
    {
     "name": "stdout",
     "output_type": "stream",
     "text": [
      "\n",
      "Current portfolio value is: $252,501.17\n",
      "Portfolio annualized return is: 114.02%\n",
      "Index annualized return is: 52.00%\n"
     ]
    },
    {
     "data": {
      "image/png": "[encoded data removed]",
      "text/plain": [
       "<Figure size 864x720 with 1 Axes>"
      ]
     },
     "metadata": {},
     "output_type": "display_data"
    }
   ],
   "source": [
    "fig = plt.figure(figsize=(12,10))\n",
    "#fig.patch.set_facecolor('white')\n",
    "ax1 = fig.add_subplot(211, ylabel='Value by % of Start Value')\n",
    "portfolio['Std Value'].plot(ax=ax1, color='red', lw=2.)\n",
    "index_back_data['Std Value'].plot(ax=ax1, color='white', lw=1.)\n",
    "plt.legend(labels=['Portfolio', 'Index'], facecolor = 'black')\n",
    "plt.tick_params(axis='x', colors='white')\n",
    "plt.tick_params(axis='y', colors='white')\n",
    "ax1.yaxis.label.set_color('white')\n",
    "ax1.xaxis.label.set_color('white')\n",
    "# Get final value of portfolio\n",
    "portfolio_value = (portfolio.iloc[-1,-3])\n",
    "# Calc cumulative returns of port and index\n",
    "cum_port_change = (1+portfolio['returns']).cumprod()\n",
    "cum_index_change = (1+index_back_data['returns']).cumprod()\n",
    "# Annualize\n",
    "portfolio_cum_ret = (cum_port_change**(250/len(portfolio.index)))-1\n",
    "index_cum_ret = (cum_index_change**(250/len(index_back_data.index)))-1\n",
    "#print(portfolio_cum_ret)\n",
    "# Slice most recent date\n",
    "portfolio_ret= portfolio_cum_ret[-1]\n",
    "index_ret = index_cum_ret[-1]\n",
    "\n",
    "print('\\nCurrent portfolio value is: $'+ str('{:,.2f}'.format(portfolio_value)))\n",
    "print('Portfolio annualized return is: '+ str(\"{:.2%}\".format(portfolio_ret)))\n",
    "print('Index annualized return is: '+ str(\"{:.2%}\".format(index_ret)))\n",
    "plt.show()"
   ]
  }
 ],
 "metadata": {
  "extensions": {
   "jupyter_dashboards": {
    "activeView": "grid_default",
    "version": 1,
    "views": {
     "grid_default": {
      "cellMargin": 10,
      "defaultCellHeight": 20,
      "maxColumns": 12,
      "name": "grid",
      "type": "grid"
     },
     "report_default": {
      "name": "report",
      "type": "report"
     }
    }
   }
  },
  "kernelspec": {
   "display_name": "Python 3",
   "language": "python",
   "name": "python3"
  },
  "language_info": {
   "codemirror_mode": {
    "name": "ipython",
    "version": 3
   },
   "file_extension": ".py",
   "mimetype": "text/x-python",
   "name": "python",
   "nbconvert_exporter": "python",
   "pygments_lexer": "ipython3",
   "version": "3.8.5"
  },
  "toc": {
   "base_numbering": 1,
   "nav_menu": {},
   "number_sections": true,
   "sideBar": true,
   "skip_h1_title": false,
   "title_cell": "Table of Contents",
   "title_sidebar": "Contents",
   "toc_cell": false,
   "toc_position": {},
   "toc_section_display": true,
   "toc_window_display": false
  },
  "varInspector": {
   "cols": {
    "lenName": 16,
    "lenType": 16,
    "lenVar": 40
   },
   "kernels_config": {
    "python": {
     "delete_cmd_postfix": "",
     "delete_cmd_prefix": "del ",
     "library": "var_list.py",
     "varRefreshCmd": "print(var_dic_list())"
    },
    "r": {
     "delete_cmd_postfix": ") ",
     "delete_cmd_prefix": "rm(",
     "library": "var_list.r",
     "varRefreshCmd": "cat(var_dic_list()) "
    }
   },
   "types_to_exclude": [
    "module",
    "function",
    "builtin_function_or_method",
    "instance",
    "_Feature"
   ],
   "window_display": false
  }
 },
 "nbformat": 4,
 "nbformat_minor": 2
}
