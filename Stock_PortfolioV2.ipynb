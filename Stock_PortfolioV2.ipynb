{
 "cells": [
  {
   "cell_type": "code",
   "execution_count": 1,
   "metadata": {},
   "outputs": [],
   "source": [
    "import yfinance as yf \n",
    "import datetime\n",
    "import pandas as pd\n",
    "import numpy as np\n",
    "import matplotlib.pyplot as plt\n",
    "import matplotlib.colors as mcolors\n",
    "import random\n",
    "import warnings\n",
    "warnings.filterwarnings('ignore')\n",
    "\n",
    "end_date = datetime.datetime.now()"
   ]
  },
  {
   "cell_type": "markdown",
   "metadata": {},
   "source": [
    "# Get Data"
   ]
  },
  {
   "cell_type": "code",
   "execution_count": 2,
   "metadata": {},
   "outputs": [
    {
     "name": "stdout",
     "output_type": "stream",
     "text": [
      "[*********************100%***********************]  4 of 4 completed\n"
     ]
    }
   ],
   "source": [
    "start_date = '2016-01-01'\n",
    "ticker_list = ['AAPL', 'AMZN','PEP', 'SNE']\n",
    "all_data = yf.download(ticker_list, start_date, end_date)"
   ]
  },
  {
   "cell_type": "markdown",
   "metadata": {},
   "source": [
    "## Alter data to use, and split data for portfolio creation and forward testing"
   ]
  },
  {
   "cell_type": "code",
   "execution_count": 3,
   "metadata": {},
   "outputs": [],
   "source": [
    "all_prices = all_data['Adj Close']\n",
    "all_prices = all_prices.reset_index(inplace=False)\n",
    "all_prices = all_prices.set_index('Date')\n",
    "halfway = int(len(all_prices.index)/2)\n",
    "# Split prices into front prices for portfolio\n",
    "# and back prices for future testing\n",
    "front_prices = all_prices.iloc[:halfway,:]\n",
    "back_prices = all_prices.iloc[halfway:,:]"
   ]
  },
  {
   "cell_type": "markdown",
   "metadata": {},
   "source": [
    "## Calculate returns and stock cov/cor matrices"
   ]
  },
  {
   "cell_type": "code",
   "execution_count": 4,
   "metadata": {},
   "outputs": [
    {
     "name": "stdout",
     "output_type": "stream",
     "text": [
      "          AAPL      AMZN       PEP       SNE\n",
      "AAPL  0.000171  0.000081  0.000025  0.000079\n",
      "AMZN  0.000081  0.000253  0.000027  0.000042\n",
      "PEP   0.000025  0.000027  0.000057  0.000035\n",
      "SNE   0.000079  0.000042  0.000035  0.000363\n",
      "          AAPL      AMZN       PEP       SNE\n",
      "AAPL  1.000000  0.388842  0.249736  0.316377\n",
      "AMZN  0.388842  1.000000  0.220511  0.139714\n",
      "PEP   0.249736  0.220511  1.000000  0.240441\n",
      "SNE   0.316377  0.139714  0.240441  1.000000\n"
     ]
    }
   ],
   "source": [
    "returns = front_prices.pct_change()\n",
    "returns.columns\n",
    "cov_matrix = returns.apply(lambda x: np.log(1+x)).cov()\n",
    "print(cov_matrix)\n",
    "corr_matrix = returns.apply(lambda x: np.log(1+x)).corr()\n",
    "print(corr_matrix)"
   ]
  },
  {
   "cell_type": "markdown",
   "metadata": {},
   "source": [
    "## Expected Return"
   ]
  },
  {
   "cell_type": "code",
   "execution_count": 5,
   "metadata": {},
   "outputs": [
    {
     "name": "stdout",
     "output_type": "stream",
     "text": [
      "AAPL    0.255406\n",
      "AMZN    0.495694\n",
      "PEP     0.109729\n",
      "SNE     0.457151\n",
      "dtype: float64\n"
     ]
    }
   ],
   "source": [
    "er = (returns.mean())\n",
    "# Annualizing average daily returns\n",
    "for x in range(0,4):\n",
    "    er[x]=((er[x]+1)**250)-1\n",
    "print(er)"
   ]
  },
  {
   "cell_type": "markdown",
   "metadata": {},
   "source": [
    "# Create portfolios to find EF"
   ]
  },
  {
   "cell_type": "code",
   "execution_count": 6,
   "metadata": {},
   "outputs": [],
   "source": [
    "p_ret=[]\n",
    "p_vol=[]\n",
    "p_weights = []\n",
    "\n",
    "num_assets = len(returns.columns)\n",
    "num_portfolios = int(1000*1.5**(num_assets))"
   ]
  },
  {
   "cell_type": "code",
   "execution_count": 7,
   "metadata": {},
   "outputs": [],
   "source": [
    "for portfolio in range(num_portfolios):\n",
    "    weights = np.random.random(num_assets)\n",
    "    weights = weights/np.sum(weights)\n",
    "    p_weights.append(weights)\n",
    "    rets = np.dot(weights, er)\n",
    "    p_ret.append(rets)\n",
    "    var = cov_matrix.mul(weights, axis=0).mul(weights, axis=1).sum().sum()\n",
    "    sd = np.sqrt(var)\n",
    "    ann_sd = sd*np.sqrt(len(returns.index))\n",
    "    p_vol.append(ann_sd)"
   ]
  },
  {
   "cell_type": "markdown",
   "metadata": {},
   "source": [
    "## Compile portfolios into dataframe"
   ]
  },
  {
   "cell_type": "code",
   "execution_count": 8,
   "metadata": {},
   "outputs": [],
   "source": [
    "data1 = {'Returns': p_ret, 'Volatility': p_vol}\n",
    "for counter, symbol in enumerate(returns.columns.tolist()):\n",
    "    data1[symbol+ ' Weight'] = [w[counter] for w in p_weights]\n",
    "portfolios = pd.DataFrame(data1)"
   ]
  },
  {
   "cell_type": "markdown",
   "metadata": {},
   "source": [
    "### Find risk free rate for sharpe ratio"
   ]
  },
  {
   "cell_type": "code",
   "execution_count": 9,
   "metadata": {},
   "outputs": [
    {
     "name": "stdout",
     "output_type": "stream",
     "text": [
      "[*********************100%***********************]  1 of 1 completed\n"
     ]
    },
    {
     "data": {
      "text/html": [
       "<div>\n",
       "<style scoped>\n",
       "    .dataframe tbody tr th:only-of-type {\n",
       "        vertical-align: middle;\n",
       "    }\n",
       "\n",
       "    .dataframe tbody tr th {\n",
       "        vertical-align: top;\n",
       "    }\n",
       "\n",
       "    .dataframe thead th {\n",
       "        text-align: right;\n",
       "    }\n",
       "</style>\n",
       "<table border=\"1\" class=\"dataframe\">\n",
       "  <thead>\n",
       "    <tr style=\"text-align: right;\">\n",
       "      <th></th>\n",
       "      <th>Returns</th>\n",
       "      <th>Volatility</th>\n",
       "      <th>AAPL Weight</th>\n",
       "      <th>AMZN Weight</th>\n",
       "      <th>PEP Weight</th>\n",
       "      <th>SNE Weight</th>\n",
       "      <th>Sharpe</th>\n",
       "    </tr>\n",
       "  </thead>\n",
       "  <tbody>\n",
       "    <tr>\n",
       "      <td>0</td>\n",
       "      <td>0.309449</td>\n",
       "      <td>0.256207</td>\n",
       "      <td>0.458758</td>\n",
       "      <td>0.005718</td>\n",
       "      <td>0.159374</td>\n",
       "      <td>0.376151</td>\n",
       "      <td>1.119380</td>\n",
       "    </tr>\n",
       "    <tr>\n",
       "      <td>1</td>\n",
       "      <td>0.371480</td>\n",
       "      <td>0.234133</td>\n",
       "      <td>0.055005</td>\n",
       "      <td>0.362719</td>\n",
       "      <td>0.254889</td>\n",
       "      <td>0.327386</td>\n",
       "      <td>1.489850</td>\n",
       "    </tr>\n",
       "    <tr>\n",
       "      <td>2</td>\n",
       "      <td>0.363815</td>\n",
       "      <td>0.281042</td>\n",
       "      <td>0.017063</td>\n",
       "      <td>0.136245</td>\n",
       "      <td>0.273860</td>\n",
       "      <td>0.572832</td>\n",
       "      <td>1.213905</td>\n",
       "    </tr>\n",
       "  </tbody>\n",
       "</table>\n",
       "</div>"
      ],
      "text/plain": [
       "    Returns  Volatility  AAPL Weight  AMZN Weight  PEP Weight  SNE Weight  \\\n",
       "0  0.309449    0.256207     0.458758     0.005718    0.159374    0.376151   \n",
       "1  0.371480    0.234133     0.055005     0.362719    0.254889    0.327386   \n",
       "2  0.363815    0.281042     0.017063     0.136245    0.273860    0.572832   \n",
       "\n",
       "     Sharpe  \n",
       "0  1.119380  \n",
       "1  1.489850  \n",
       "2  1.213905  "
      ]
     },
     "execution_count": 9,
     "metadata": {},
     "output_type": "execute_result"
    }
   ],
   "source": [
    "rf_data = yf.download('^TNX', start_date, end_date)\n",
    "#print(rf_data)\n",
    "rf_returns = rf_data['Adj Close']\n",
    "rfr = (rf_returns.mean())/100 # divide by 100 to convert to x percent\n",
    "portfolios['Sharpe']=(portfolios['Returns']-rfr)/portfolios['Volatility']\n",
    "portfolios.head(3)"
   ]
  },
  {
   "cell_type": "markdown",
   "metadata": {},
   "source": [
    "### Weighting with best Sharpe Ratio"
   ]
  },
  {
   "cell_type": "code",
   "execution_count": 19,
   "metadata": {},
   "outputs": [
    {
     "data": {
      "text/plain": [
       "pandas.core.frame.DataFrame"
      ]
     },
     "execution_count": 19,
     "metadata": {},
     "output_type": "execute_result"
    }
   ],
   "source": [
    "sharpe = (portfolios[portfolios['Sharpe']==portfolios['Sharpe'].max()])\n",
    "type(sharpe)"
   ]
  },
  {
   "cell_type": "markdown",
   "metadata": {},
   "source": [
    "## Plot Efficient Frontier"
   ]
  },
  {
   "cell_type": "code",
   "execution_count": 11,
   "metadata": {},
   "outputs": [
    {
     "data": {
      "image/png": "[encoded data removed]",
      "text/plain": [
       "<Figure size 720x360 with 1 Axes>"
      ]
     },
     "metadata": {
      "needs_background": "light"
     },
     "output_type": "display_data"
    }
   ],
   "source": [
    "portfolios.plot.scatter(figsize=(10,5), x='Volatility', y='Returns', grid=True)\n",
    "plt.scatter(x=sharpe['Volatility'], y=sharpe['Returns'], color= 'gold', marker='*', lw=4.)\n",
    "plt.xlim(.1, .5)\n",
    "plt.ylim(.1, .8)\n",
    "plt.show()"
   ]
  },
  {
   "cell_type": "markdown",
   "metadata": {},
   "source": [
    "# Test performance in future"
   ]
  },
  {
   "cell_type": "code",
   "execution_count": 20,
   "metadata": {},
   "outputs": [
    {
     "name": "stdout",
     "output_type": "stream",
     "text": [
      "                  AAPL         AMZN         PEP        SNE\n",
      "Date                                                      \n",
      "2018-02-06  157.866333  1442.839966  106.027573  50.140518\n",
      "2018-02-07  154.486877  1416.780029  105.971550  49.498569\n",
      "2018-02-08  150.235947  1350.500000  102.843742  46.377754\n",
      "2018-02-09  152.073547  1339.599976  103.805443  46.466640\n",
      "2018-02-12  158.198883  1386.229980  104.505692  47.671516\n",
      "...                ...          ...         ...        ...\n",
      "2020-03-05  292.920013  1924.030029  138.100006  63.439999\n",
      "2020-03-06  289.029999  1901.089966  137.259995  63.119999\n",
      "2020-03-09  266.170013  1800.609985  130.160004  58.529999\n",
      "2020-03-10  285.339996  1891.819946  134.139999  60.330002\n",
      "2020-03-11  275.429993  1820.859985  129.750000  57.790001\n",
      "\n",
      "[527 rows x 4 columns]\n"
     ]
    }
   ],
   "source": [
    "backtest_data = back_prices.copy()\n",
    "initial_capital = 100000.0\n",
    "print(backtest_data)"
   ]
  },
  {
   "cell_type": "markdown",
   "metadata": {},
   "source": [
    "### Pull weights from optimal sharpe value portfolio"
   ]
  },
  {
   "cell_type": "code",
   "execution_count": 13,
   "metadata": {},
   "outputs": [],
   "source": [
    "opt_weights = (sharpe.iloc[0:1,2:-1])\n",
    "opt_weights = opt_weights.values\n",
    "opt_weights = (opt_weights[0])"
   ]
  },
  {
   "cell_type": "markdown",
   "metadata": {},
   "source": [
    "### Create df of positions for amt of shares per stock based upon portfolio weights"
   ]
  },
  {
   "cell_type": "code",
   "execution_count": 14,
   "metadata": {},
   "outputs": [],
   "source": [
    "positions = pd.DataFrame(index=backtest_data.index).fillna(0.0)\n",
    "for counter, symbol in enumerate(all_prices.columns.tolist()):\n",
    "    positions[symbol+ ' Shares'] = (opt_weights[counter]*initial_capital)/back_prices.iloc[0,counter]"
   ]
  },
  {
   "cell_type": "markdown",
   "metadata": {},
   "source": [
    "### Create list of column names for Portfolio df, fill in df values by multiplying stock value by stock position"
   ]
  },
  {
   "cell_type": "code",
   "execution_count": 15,
   "metadata": {},
   "outputs": [],
   "source": [
    "# Create list of columns for portfolio\n",
    "col_list= []\n",
    "for counter, symbol in enumerate(all_prices.columns.tolist()):\n",
    "    col_list.append(symbol+ ' Value')\n",
    "# Initialize portfolio\n",
    "portfolio = pd.DataFrame(backtest_data.values*positions.values, columns=col_list, index=backtest_data.index)\n",
    "portfolio['total'] = portfolio.sum(axis=1)\n",
    "portfolio['returns'] = portfolio['total'].pct_change()"
   ]
  },
  {
   "cell_type": "markdown",
   "metadata": {},
   "source": [
    "# Show Portfolio performance "
   ]
  },
  {
   "cell_type": "markdown",
   "metadata": {},
   "source": [
    "### Get index returns and standardize prices"
   ]
  },
  {
   "cell_type": "code",
   "execution_count": 16,
   "metadata": {},
   "outputs": [
    {
     "name": "stdout",
     "output_type": "stream",
     "text": [
      "[*********************100%***********************]  1 of 1 completed\n"
     ]
    }
   ],
   "source": [
    "index_all_data = yf.download('^GSPC', start_date, end_date)\n",
    "index_all_data['returns'] = index_all_data['Adj Close'].pct_change()\n",
    "\n",
    "halfway = int(len(index_all_data.index)/2)\n",
    "# Split prices into front prices for portfolio\n",
    "# and back prices for future testing\n",
    "index_front_data = index_all_data.iloc[:halfway,:]\n",
    "index_back_data = index_all_data.iloc[halfway:,:]"
   ]
  },
  {
   "cell_type": "code",
   "execution_count": 17,
   "metadata": {},
   "outputs": [],
   "source": [
    "portfolio['Std Value'] = portfolio['total'] / portfolio['total'].iloc[0] * 100\n",
    "index_back_data['Std Value'] = index_back_data['Adj Close'] / index_back_data['Adj Close'].iloc[0] * 100\n",
    "#print(portfolio.tail(5))\n",
    "#print(index_back_data.tail(5))"
   ]
  },
  {
   "cell_type": "markdown",
   "metadata": {},
   "source": [
    "### Plot portfolio value against index (standardized)"
   ]
  },
  {
   "cell_type": "code",
   "execution_count": 18,
   "metadata": {},
   "outputs": [
    {
     "name": "stdout",
     "output_type": "stream",
     "text": [
      "\n",
      "Current portfolio value is: $124,520.73\n",
      "Portfolio annualized return is: 10.96%\n",
      "Index annualized return is: 1.64%\n"
     ]
    },
    {
     "data": {
      "image/png": "[encoded data removed]",
      "text/plain": [
       "<Figure size 864x720 with 1 Axes>"
      ]
     },
     "metadata": {},
     "output_type": "display_data"
    }
   ],
   "source": [
    "fig = plt.figure(figsize=(12,10))\n",
    "fig.patch.set_facecolor('white')\n",
    "ax1 = fig.add_subplot(211, ylabel='Value by % of Start Value')\n",
    "portfolio['Std Value'].plot(ax=ax1, color='red', lw=2.)\n",
    "index_back_data['Std Value'].plot(ax=ax1, color='black', lw=1.)\n",
    "plt.legend(labels=['Portfolio', 'Index'])\n",
    "\n",
    "# Get final value of portfolio\n",
    "portfolio_value = (portfolio.iloc[-1,-3])\n",
    "# Calc cumulative returns of port and index\n",
    "cum_port_change = (1+portfolio['returns']).cumprod()\n",
    "cum_index_change = (1+index_back_data['returns']).cumprod()\n",
    "# Annualize\n",
    "portfolio_cum_ret = (cum_port_change**(250/len(portfolio.index)))-1\n",
    "index_cum_ret = (cum_index_change**(250/len(index_back_data.index)))-1\n",
    "#print(portfolio_cum_ret)\n",
    "# Slice most recent date\n",
    "portfolio_ret= portfolio_cum_ret[-1]\n",
    "index_ret = index_cum_ret[-1]\n",
    "\n",
    "print('\\nCurrent portfolio value is: $'+ str('{:,.2f}'.format(portfolio_value)))\n",
    "print('Portfolio annualized return is: '+ str(\"{:.2%}\".format(portfolio_ret)))\n",
    "print('Index annualized return is: '+ str(\"{:.2%}\".format(index_ret)))\n",
    "plt.show()"
   ]
  }
 ],
 "metadata": {
  "kernelspec": {
   "display_name": "Python 3",
   "language": "python",
   "name": "python3"
  },
  "language_info": {
   "codemirror_mode": {
    "name": "ipython",
    "version": 3
   },
   "file_extension": ".py",
   "mimetype": "text/x-python",
   "name": "python",
   "nbconvert_exporter": "python",
   "pygments_lexer": "ipython3",
   "version": "3.7.4"
  }
 },
 "nbformat": 4,
 "nbformat_minor": 2
}
